{
 "cells": [
  {
   "cell_type": "code",
   "execution_count": 3,
   "metadata": {},
   "outputs": [],
   "source": [
    "# Soln to Coding Interview Q3\n",
    "# Q3: given a history of stock price, \n",
    "#     find the buy-sell strategy that maximizes profit\n",
    "#     without shorting the stock\n",
    "\n",
    "def stock_strategy(price):\n",
    "    \n",
    "    max_profit = 0\n",
    "\n",
    "    for i in range(0, len(price)):\n",
    "        for j in range(i+1, len(price)):\n",
    "\n",
    "            profit = price[j] - price[i]\n",
    "\n",
    "            if profit > max_profit:\n",
    "                max_profit = profit\n",
    "                buy_day    = i+1\n",
    "                sell_day   = j+1\n",
    "                \n",
    "    return max_profit, buy_day, sell_day\n"
   ]
  },
  {
   "cell_type": "code",
   "execution_count": 4,
   "metadata": {},
   "outputs": [
    {
     "name": "stdout",
     "output_type": "stream",
     "text": [
      "buy on day 3 and sell on day 4 , gain a profit of $ 8\n"
     ]
    }
   ],
   "source": [
    "# try an example\n",
    "price = [6, 13, 2, 10, 3, 5]\n",
    "\n",
    "max_profit, buy_day, sell_day = stock_strategy(price)\n",
    "\n",
    "print('buy on day', buy_day, 'and sell on day', sell_day, ', gain a profit of $', max_profit)"
   ]
  }
 ],
 "metadata": {
  "kernelspec": {
   "display_name": "Python 3",
   "language": "python",
   "name": "python3"
  },
  "language_info": {
   "codemirror_mode": {
    "name": "ipython",
    "version": 3
   },
   "file_extension": ".py",
   "mimetype": "text/x-python",
   "name": "python",
   "nbconvert_exporter": "python",
   "pygments_lexer": "ipython3",
   "version": "3.7.4"
  }
 },
 "nbformat": 4,
 "nbformat_minor": 2
}
