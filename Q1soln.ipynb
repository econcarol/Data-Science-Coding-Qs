{
 "cells": [
  {
   "cell_type": "code",
   "execution_count": 1,
   "metadata": {},
   "outputs": [],
   "source": [
    "# Soln to Coding Interview Q1\n",
    "# Q1: find the max sum when adding any consecutive elements in an array \n",
    "\n",
    "def max_continuous_sum(a): \n",
    "    \n",
    "    if len(a) == 0:\n",
    "        max_sum = 0\n",
    "        \n",
    "    else:\n",
    "        total = []   \n",
    "\n",
    "        for i in range(len(a) + 1): \n",
    "            for j in range(i + 1, len(a) + 1): \n",
    "\n",
    "                # obtain the continuous subarray  \n",
    "                sub_a = a[i:j]\n",
    "                # obtain the sum of the subarray\n",
    "                total.append(sum(sub_a))\n",
    "                \n",
    "        # find maximum of all the subarray sums       \n",
    "        max_sum = max(total)\n",
    "    \n",
    "    return max_sum"
   ]
  },
  {
   "cell_type": "code",
   "execution_count": 2,
   "metadata": {},
   "outputs": [
    {
     "data": {
      "text/plain": [
       "24"
      ]
     },
     "execution_count": 2,
     "metadata": {},
     "output_type": "execute_result"
    }
   ],
   "source": [
    "# try a few examples\n",
    "a1 = [7, 8, 9]\n",
    "max_continuous_sum(a1)"
   ]
  },
  {
   "cell_type": "code",
   "execution_count": 3,
   "metadata": {},
   "outputs": [
    {
     "data": {
      "text/plain": [
       "24"
      ]
     },
     "execution_count": 3,
     "metadata": {},
     "output_type": "execute_result"
    }
   ],
   "source": [
    "a2 = [-1, 7, 8, 9, -10]\n",
    "max_continuous_sum(a2)"
   ]
  },
  {
   "cell_type": "code",
   "execution_count": 4,
   "metadata": {},
   "outputs": [
    {
     "data": {
      "text/plain": [
       "11"
      ]
     },
     "execution_count": 4,
     "metadata": {},
     "output_type": "execute_result"
    }
   ],
   "source": [
    "a3 = [2, 3, -10, 9, 2]\n",
    "max_continuous_sum(a3)"
   ]
  },
  {
   "cell_type": "code",
   "execution_count": 5,
   "metadata": {},
   "outputs": [
    {
     "data": {
      "text/plain": [
       "14"
      ]
     },
     "execution_count": 5,
     "metadata": {},
     "output_type": "execute_result"
    }
   ],
   "source": [
    "a4 = [2, 11, -10, 9, 2]\n",
    "max_continuous_sum(a4)"
   ]
  },
  {
   "cell_type": "code",
   "execution_count": 6,
   "metadata": {},
   "outputs": [
    {
     "data": {
      "text/plain": [
       "12"
      ]
     },
     "execution_count": 6,
     "metadata": {},
     "output_type": "execute_result"
    }
   ],
   "source": [
    "a5 = [12, -10, 7, -8, 4, 6]\n",
    "max_continuous_sum(a5)"
   ]
  },
  {
   "cell_type": "code",
   "execution_count": 7,
   "metadata": {},
   "outputs": [
    {
     "data": {
      "text/plain": [
       "0"
      ]
     },
     "execution_count": 7,
     "metadata": {},
     "output_type": "execute_result"
    }
   ],
   "source": [
    "a6 = []\n",
    "max_continuous_sum(a6)"
   ]
  }
 ],
 "metadata": {
  "kernelspec": {
   "display_name": "Python 3",
   "language": "python",
   "name": "python3"
  },
  "language_info": {
   "codemirror_mode": {
    "name": "ipython",
    "version": 3
   },
   "file_extension": ".py",
   "mimetype": "text/x-python",
   "name": "python",
   "nbconvert_exporter": "python",
   "pygments_lexer": "ipython3",
   "version": "3.7.4"
  }
 },
 "nbformat": 4,
 "nbformat_minor": 2
}
