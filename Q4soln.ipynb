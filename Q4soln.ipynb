{
 "cells": [
  {
   "cell_type": "code",
   "execution_count": 1,
   "metadata": {},
   "outputs": [],
   "source": [
    "# Soln to Coding Interview Q4\n",
    "# Q4: compare two arrays and find the missing element\n",
    "\n",
    "def missing(a1, a2):\n",
    "    \n",
    "    for i, v in enumerate(a1): \n",
    "        if a1.count(v) != a2.count(v):\n",
    "            missing = v\n",
    "            \n",
    "    return missing"
   ]
  },
  {
   "cell_type": "code",
   "execution_count": 2,
   "metadata": {},
   "outputs": [
    {
     "name": "stdout",
     "output_type": "stream",
     "text": [
      "a1: [1, 2, 3, 4, 5]\n",
      "a2: [4, 5, 2, 3]\n",
      "missing: 1\n"
     ]
    }
   ],
   "source": [
    "# try out a few examples\n",
    "import random\n",
    "\n",
    "a1 = [1, 2, 3, 4, 5]\n",
    "\n",
    "# shuffle elements in 1st array\n",
    "a2 = a1.copy()\n",
    "random.shuffle(a2)\n",
    "\n",
    "# delete a random element\n",
    "r = random.randint(0, len(a1)-1)\n",
    "a2.pop(r)\n",
    "\n",
    "# print both arrays\n",
    "print('a1:', a1)\n",
    "print('a2:', a2)\n",
    "\n",
    "# find missing element\n",
    "print('missing:', missing(a1, a2))"
   ]
  },
  {
   "cell_type": "code",
   "execution_count": 3,
   "metadata": {},
   "outputs": [
    {
     "name": "stdout",
     "output_type": "stream",
     "text": [
      "a1: [2, 2, 4, 4, 5]\n",
      "a2: [2, 4, 2, 4]\n",
      "missing: 5\n"
     ]
    }
   ],
   "source": [
    "a1 = [2, 2, 4, 4, 5]\n",
    "\n",
    "# shuffle elements in 1st array\n",
    "a2 = a1.copy()\n",
    "random.shuffle(a2)\n",
    "\n",
    "# delete a random element\n",
    "r = random.randint(0, len(a1)-1)\n",
    "a2.pop(r)\n",
    "\n",
    "# print both arrays\n",
    "print('a1:', a1)\n",
    "print('a2:', a2)\n",
    "\n",
    "# find missing element\n",
    "print('missing:', missing(a1, a2))"
   ]
  }
 ],
 "metadata": {
  "kernelspec": {
   "display_name": "Python 3",
   "language": "python",
   "name": "python3"
  },
  "language_info": {
   "codemirror_mode": {
    "name": "ipython",
    "version": 3
   },
   "file_extension": ".py",
   "mimetype": "text/x-python",
   "name": "python",
   "nbconvert_exporter": "python",
   "pygments_lexer": "ipython3",
   "version": "3.7.4"
  }
 },
 "nbformat": 4,
 "nbformat_minor": 2
}
